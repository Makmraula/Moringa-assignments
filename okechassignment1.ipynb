{
 "cells": [
  {
   "cell_type": "code",
   "execution_count": null,
   "id": "6c480301-d08c-48fc-a595-bea7f1e61d20",
   "metadata": {},
   "outputs": [],
   "source": [
    "#Assign the below variable number to the number 42 by replacing None with 42.\n",
    "number = 42\n",
    "\n",
    "number"
   ]
  },
  {
   "cell_type": "code",
   "execution_count": null,
   "id": "48d271c4-224d-4b56-ba9b-3c554cb277a8",
   "metadata": {},
   "outputs": [],
   "source": [
    "#Next, like the above, reassign the flatiron_mantra variable with the string \"Change Things\" (make sure to include the double quotes!)\n",
    "flatiron_mantra = \"Change Things\"\n",
    "flatiron_mantra"
   ]
  },
  {
   "cell_type": "code",
   "execution_count": null,
   "id": "72f07332-48f8-4a4a-a35d-ca41f19fade1",
   "metadata": {},
   "outputs": [],
   "source": [
    "***###This is a new Header"
   ]
  },
  {
   "cell_type": "code",
   "execution_count": null,
   "id": "ef86d3aa-88a4-4597-b01d-f8c13af584e1",
   "metadata": {},
   "outputs": [],
   "source": [
    "arsenal_uses_dark_arts = True\n",
    "while arsenal_uses_dark_arts:\n",
    "    print (\"Arsenal wins matches!\")"
   ]
  },
  {
   "cell_type": "code",
   "execution_count": null,
   "id": "7472b9fc-94dd-4b73-b99f-b701b5c7d809",
   "metadata": {},
   "outputs": [],
   "source": []
  }
 ],
 "metadata": {
  "kernelspec": {
   "display_name": "Python 3 (ipykernel)",
   "language": "python",
   "name": "python3"
  },
  "language_info": {
   "codemirror_mode": {
    "name": "ipython",
    "version": 3
   },
   "file_extension": ".py",
   "mimetype": "text/x-python",
   "name": "python",
   "nbconvert_exporter": "python",
   "pygments_lexer": "ipython3",
   "version": "3.12.4"
  }
 },
 "nbformat": 4,
 "nbformat_minor": 5
}
